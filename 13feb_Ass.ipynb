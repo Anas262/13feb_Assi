{
 "cells": [
  {
   "cell_type": "code",
   "execution_count": 1,
   "id": "b3dedc60-5d45-472b-ac5d-3de15c9fdae2",
   "metadata": {},
   "outputs": [],
   "source": [
    "# Q1. What is an Exception in Python? Write the difference between Exceptions and Syntax errors.\n",
    "\n",
    "# Ans1. An exception in Python is an event that occurs during the execution of a program, which disrupts the normal flow of the program's instructions. It is a way to handle errors or exceptional conditions that may arise during runtime. Exceptions provide a mechanism to gracefully handle errors and prevent the program from crashing.\n",
    "\n",
    "# The main difference between exceptions and syntax errors is as follows:\n",
    "\n",
    "# Syntax errors occur when the code violates the syntax rules of the programming language. These errors prevent \n",
    "# the program from running and must be fixed before execution.\n",
    "# Exceptions, on the other hand, occur during the execution of a program due to various factors such as invalid \n",
    "# input, division by zero, or accessing non-existent variables. Exceptions can be handled within the program using\n",
    "# try-except blocks, allowing the program to continue running even if an exception occurs."
   ]
  },
  {
   "cell_type": "code",
   "execution_count": 15,
   "id": "cd9c520b-2201-44f5-902a-bb7e69920af7",
   "metadata": {},
   "outputs": [
    {
     "ename": "ZeroDivisionError",
     "evalue": "division by zero",
     "output_type": "error",
     "traceback": [
      "\u001b[0;31m---------------------------------------------------------------------------\u001b[0m",
      "\u001b[0;31mZeroDivisionError\u001b[0m                         Traceback (most recent call last)",
      "Cell \u001b[0;32mIn [15], line 11\u001b[0m\n\u001b[1;32m      9\u001b[0m num1 \u001b[38;5;241m=\u001b[39m \u001b[38;5;241m10\u001b[39m\n\u001b[1;32m     10\u001b[0m num2 \u001b[38;5;241m=\u001b[39m \u001b[38;5;241m0\u001b[39m\n\u001b[0;32m---> 11\u001b[0m result \u001b[38;5;241m=\u001b[39m \u001b[43mnum1\u001b[49m\u001b[43m \u001b[49m\u001b[38;5;241;43m/\u001b[39;49m\u001b[43m \u001b[49m\u001b[43mnum2\u001b[49m\n\u001b[1;32m     12\u001b[0m logging\u001b[38;5;241m.\u001b[39merror(\u001b[38;5;124m\"\u001b[39m\u001b[38;5;124mresult : \u001b[39m\u001b[38;5;132;01m{}\u001b[39;00m\u001b[38;5;124m\"\u001b[39m\u001b[38;5;241m.\u001b[39mformat(result))\n",
      "\u001b[0;31mZeroDivisionError\u001b[0m: division by zero"
     ]
    }
   ],
   "source": [
    "\n",
    "# Q2. What happens when an exception is not handled? Explain with an example.\n",
    "\n",
    "# Ans2. When an exception is not handled, it results in an unhandled exception error. This error terminates the \n",
    "# execution of the program and displays an error message indicating the type of exception that occurred and the\n",
    "# line of code where it happened.\n",
    "import logging\n",
    "logging.basicConfig(filename = \"Assign.log\", level = logging.DEBUG, format=\"%(asctime)s : %(levelname)s :%(message)s :%(name)s\")\n",
    "logging.error(\"When Exception is not handled then it's result an unhadled exception error \")\n",
    "num1 = 10\n",
    "num2 = 0\n",
    "result = num1 / num2\n",
    "logging.error(\"result : {}\".format(result))\n",
    "# In this case, we are trying to divide num1 by num2, where num2 is zero. This will raise a ZeroDivisionError\n",
    "# exception because division by zero is not allowed. If this exception is not handled, the program will \n",
    "# terminate and display the following error message:\n",
    "\n",
    "\n",
    "# ZeroDivisionError: division by zero\n"
   ]
  },
  {
   "cell_type": "code",
   "execution_count": 5,
   "id": "6d524364-4d25-4b9c-9c5b-6a4b65ad37bb",
   "metadata": {},
   "outputs": [
    {
     "name": "stdin",
     "output_type": "stream",
     "text": [
      "Enter a number:  12\n",
      "Enter another number:  0\n"
     ]
    }
   ],
   "source": [
    "# Q3. Which Python statements are used to catch and handle exceptions? Explain with an example.\n",
    "\n",
    "# Ans3. In Python, the try-except statements are used to catch and handle exceptions. The general syntax is as follows:\n",
    "\n",
    "\n",
    "# try:\n",
    "#     # Code that may raise an exception\n",
    "#     ...\n",
    "# except ExceptionType:\n",
    "    # Code to handle the exception\n",
    "import logging\n",
    "logging.basicConfig(filename= \"Assign1.log\",level=logging.DEBUG)\n",
    "try:\n",
    "    num1 = int(input(\"Enter a number: \"))\n",
    "    num2 = int(input(\"Enter another number: \"))\n",
    "    result = num1 / num2\n",
    "    logging.info(\"Result: {}\".format(result))\n",
    "except ValueError:\n",
    "    logging.error(\"Invalid input. Please enter a valid number.\")\n",
    "except ZeroDivisionError:\n",
    "    logging.error(\"Cannot divide by zero.\")\n",
    "# In this example, the try block contains the code that may raise exceptions. If an exception occurs, \n",
    "# it will be caught by the appropriate except block. The program will then execute the code inside the \n",
    "# corresponding except block, providing a way to handle the exception gracefully.\n"
   ]
  },
  {
   "cell_type": "code",
   "execution_count": 2,
   "id": "857e11b9-3c94-4ce8-9f34-8dab91df3888",
   "metadata": {},
   "outputs": [
    {
     "name": "stdin",
     "output_type": "stream",
     "text": [
      "Enter a number:  12\n",
      "Enter another number:  4\n"
     ]
    }
   ],
   "source": [
    "#Q4. Explain with an example: try, except, else, finally, and raise statements.\n",
    "\n",
    "# Ans.4\n",
    "# try: The try block is used to enclose the code that may raise exceptions.\n",
    "# except: The except block is used to handle specific exceptions that may occur in the try block.\n",
    "# else: The else block is executed if no exceptions are raised in the try block. It is optional and \n",
    "# provides an opportunity to perform additional operations when no exceptions occur.\n",
    "# finally: The finally block is always executed, regardless of whether an exception occurred or not.\n",
    "# It is used to define cleanup actions that must be performed, such as closing files or releasing resources.\n",
    "# raise: The raise statement is used to explicitly raise an exception.\n",
    "import logging\n",
    "logging.basicConfig(filename =\"Assign2.log\", level = logging.DEBUG, format=\"%(asctime)s : %(levelname)s :%(message)s :%(name)s\")\n",
    "try:\n",
    "    num1 = int(input(\"Enter a number: \"))\n",
    "    num2 = int(input(\"Enter another number: \"))\n",
    "    result = num1 / num2\n",
    "except ValueError as e:\n",
    "    logging.error(\"Invalid input. Please enter a valid number:{}\".format(e))\n",
    "else:\n",
    "    logging.info(\"Result: {}\".format(result))\n",
    "finally:\n",
    "    logging.error(\"Execution complete.\")\n",
    "# In this example, if the user enters invalid input or tries to divide by zero, the respective except block will\n",
    "# handle the exception. If no exception occurs, the code in the else block will execute, printing the result. \n",
    "# Finally, the finally block will always execute, printing \"Execution complete\" regardless of whether\n",
    "# an exception occurred or not.\n"
   ]
  },
  {
   "cell_type": "code",
   "execution_count": null,
   "id": "93e4b48b-89c8-42b6-8009-eb8ba2c173c8",
   "metadata": {},
   "outputs": [],
   "source": [
    "# Q5. What are Custom Exceptions in Python? Why do we need Custom Exceptions? Explain with an example.\n",
    "\n",
    "# Ans.5 Custom exceptions, also known as user-defined exceptions, are exceptions defined by the programmer to handle \n",
    "# specific error conditions. Python allows developers to create their own exception classes by deriving them \n",
    "# from the built-in Exception class or any of its subclasses.\n",
    "\n",
    "# We need custom exceptions to differentiate specific error conditions in our code and provide more meaningful \n",
    "# error messages. By defining custom exception classes, we can raise and handle exceptions that are specific to \n",
    "# our application's logic.\n",
    "\n",
    "class CustomError(Exception):\n",
    "    pass\n",
    "\n",
    "def calculate_square_root(num):\n",
    "    if num < 0:\n",
    "        raise CustomError(\"Cannot calculate square root of a negative number.\")\n",
    "    else:\n",
    "        return num ** 0.5\n",
    "\n",
    "try:\n",
    "    result = calculate_square_root(-9)\n",
    "    print(\"Square root:\", result)\n",
    "except CustomError as e:\n",
    "    print(\"Error:\", str(e))\n",
    "# In this example, we define a custom exception class called CustomError by deriving it from the base Exception \n",
    "# class. The calculate_square_root function raises this custom exception if the input number is negative.\n",
    "# In the try-except block, we catch the CustomError exception and print a custom error message. \n",
    "# This allows us to handle the specific error condition of calculating the square root of a negative number.\n"
   ]
  },
  {
   "cell_type": "code",
   "execution_count": null,
   "id": "7a1dba66-f94d-4308-8bde-4adb934af227",
   "metadata": {},
   "outputs": [],
   "source": [
    "# Q6. Create a custom exception class. Use this class to handle an exception.\n",
    "\n",
    "# Ans.6 Here's an example of creating a custom exception class and handling an exception using it:\n",
    "\n",
    "\n",
    "class CustomException(Exception):\n",
    "    def __init__(self, message):\n",
    "        self.message = message\n",
    "\n",
    "try:\n",
    "    age = int(input(\"Enter your age: \"))\n",
    "    if age < 0:\n",
    "        raise CustomException(\"Age cannot be negative.\")\n",
    "    else:\n",
    "        print(\"Valid age:\", age)\n",
    "except CustomException as e:\n",
    "    print(\"Error:\", e.message)\n",
    "# In this example, we define a custom exception class called CustomException. \n",
    "# It takes a message as an argument in its constructor. Inside the try block, \n",
    "# we prompt the user to enter their age. If the age is negative, we raise a CustomException with\n",
    "# an appropriate error message. The except block catches this exception and prints the custom error \n",
    "# message provided when raising the exception.\n"
   ]
  },
  {
   "cell_type": "code",
   "execution_count": null,
   "id": "75f5965f-7138-4eb7-9b64-cd787d82e0bf",
   "metadata": {},
   "outputs": [],
   "source": []
  }
 ],
 "metadata": {
  "kernelspec": {
   "display_name": "Python 3 (ipykernel)",
   "language": "python",
   "name": "python3"
  },
  "language_info": {
   "codemirror_mode": {
    "name": "ipython",
    "version": 3
   },
   "file_extension": ".py",
   "mimetype": "text/x-python",
   "name": "python",
   "nbconvert_exporter": "python",
   "pygments_lexer": "ipython3",
   "version": "3.10.6"
  }
 },
 "nbformat": 4,
 "nbformat_minor": 5
}
